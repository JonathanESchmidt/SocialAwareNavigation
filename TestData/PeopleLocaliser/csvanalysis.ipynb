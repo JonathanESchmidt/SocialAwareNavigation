{
 "cells": [
  {
   "cell_type": "code",
   "execution_count": null,
   "metadata": {},
   "outputs": [],
   "source": [
    "import pandas as pd\n",
    "import numpy as np\n",
    "import matplotlib.pyplot as plt\n",
    "\n",
    "from itertools import cycle"
   ]
  },
  {
   "cell_type": "code",
   "execution_count": null,
   "metadata": {},
   "outputs": [],
   "source": [
    "class MeasurementData():\n",
    "  def __init__(self,df,GTDist,GTAngle):\n",
    "    self.df=df\n",
    "    self.GTDist=GTDist\n",
    "    self.GTAngle=GTAngle\n",
    "\n",
    "    self.meanAngle=self.df[\"angle\"].mean()\n",
    "    self.maxAngle=self.df[\"angle\"].max()\n",
    "    self.minAngle=self.df[\"angle\"].min()\n",
    "\n",
    "    self.meanDist=self.df[\"distance\"].mean()\n",
    "    self.maxDist=self.df[\"distance\"].max()\n",
    "    self.minDist=self.df[\"distance\"].min()\n",
    "\n",
    "    self.meanX=self.df[\"x-coord\"].mean()\n",
    "    self.maxX=self.df[\"x-coord\"].max()\n",
    "    self.minX=self.df[\"x-coord\"].min()\n",
    "    self.GTx=np.cos(np.radians(self.GTAngle))*self.GTDist\n",
    "    self.GTy=np.sin(np.radians(self.GTAngle))*self.GTDist\n",
    "\n",
    "    self.meanY=self.df[\"y-coord\"].mean()\n",
    "    self.maxY=self.df[\"y-coord\"].max()\n",
    "    self.minY=self.df[\"y-coord\"].min()\n",
    "\n",
    "    self.meanHz=self.df[\"framerate\"].mean()\n",
    "    self.maxHz=self.df[\"framerate\"].max()\n",
    "    self.minHz=self.df[\"framerate\"].min()\n",
    "\n",
    "    self.missingAmount=(500-self.df[\"detection\"].sum())/500\n"
   ]
  },
  {
   "cell_type": "code",
   "execution_count": null,
   "metadata": {},
   "outputs": [],
   "source": [
    "def addData(name,GTDist):\n",
    "    \n",
    "    if GTDist==3:\n",
    "        createInstance(pd.read_csv(name + \"-20deg\" + \".csv\"),GTDist,-20)\n",
    "        createInstance(pd.read_csv(name + \"-15deg\" + \".csv\"),GTDist,-15)\n",
    "        createInstance(pd.read_csv(name + \"-10deg\" + \".csv\"),GTDist,-10)\n",
    "        createInstance(pd.read_csv(name + \"-5deg\" + \".csv\"),GTDist,-5)\n",
    "        createInstance(pd.read_csv(name + \"0deg\" + \".csv\"),GTDist,0)\n",
    "        createInstance(pd.read_csv(name + \"+5deg\" + \".csv\"),GTDist,5)\n",
    "        createInstance(pd.read_csv(name + \"+10deg\" + \".csv\"),GTDist,10)\n",
    "        createInstance(pd.read_csv(name + \"+15deg\" + \".csv\"),GTDist,15)\n",
    "        createInstance(pd.read_csv(name + \"+20deg\" + \".csv\"),GTDist,20)\n",
    "    else:\n",
    "        createInstance(pd.read_csv(name + \"-20deg\" + \".csv\"),GTDist,-20)\n",
    "        createInstance(pd.read_csv(name + \"-10deg\" + \".csv\"),GTDist,-10)\n",
    "        createInstance(pd.read_csv(name + \"0deg\" + \".csv\"),GTDist,0)\n",
    "        createInstance(pd.read_csv(name + \"+10deg\" + \".csv\"),GTDist,10)\n",
    "        createInstance(pd.read_csv(name + \"+20deg\" + \".csv\"),GTDist,20)\n",
    "\n",
    "def createInstance(df,GTDist,GTAngle):\n",
    "    Data.append(MeasurementData(df,GTDist,GTAngle))"
   ]
  },
  {
   "cell_type": "code",
   "execution_count": null,
   "metadata": {},
   "outputs": [],
   "source": [
    "Data=[]\n",
    "addData(\"test_0,7m\",0.7)\n",
    "addData(\"test_1m\",1)\n",
    "addData(\"test_1,5m\",1.5)\n",
    "addData(\"test_2m\",2)\n",
    "addData(\"test_3m\",3)\n",
    "addData(\"test_4m\",4)"
   ]
  },
  {
   "cell_type": "code",
   "execution_count": null,
   "metadata": {},
   "outputs": [],
   "source": [
    "counter =0\n",
    "cycol = cycle('bgrcmk')\n",
    "'''plot individual distance and angle plots for all tests'''\n",
    "\n",
    "for Measurement in Data:\n",
    "    title=\"GTAngle=\"+str(round(Measurement.GTAngle,2))+\"°\"+\" GTDist=\"+str(round(Measurement.GTDist,2))+\"m, \"+\"min=\"+str(round(Measurement.minDist,2))+\"m, \"+\"mean=\"+str(round(Measurement.meanDist,2))+\"m, \"+\"max=\"+str(round(Measurement.maxDist,2))+\"m\"\n",
    "    Measurement.df.plot(kind='scatter', x='iteration', y='distance',c='b',title=title,s=2) \n",
    "    \n",
    "    plt.axhline(Measurement.meanDist, color='g')\n",
    "    plt.grid(color='gray', linestyle='-', linewidth=.25)\n",
    "    plt.savefig('Distance-'+str(Measurement.GTDist)+'m'+str(Measurement.GTAngle)+'.png', dpi=1200)\n",
    "\n",
    "    title=\"GTAngle=\"+str(round(Measurement.GTAngle,2))+\"°\"+\" GTDist=\"+str(round(Measurement.GTDist,2))+\"m, \"+\"min=\"+str(round(Measurement.minAngle,2))+\"°, \"+\"mean=\"+str(round(Measurement.meanAngle,2))+\"°, \"+\"max=\"+str(round(Measurement.maxAngle,2))+\"°\"\n",
    "    Measurement.df.plot(kind='scatter', x='iteration', y='distance',c='b',title=title,s=2) \n",
    "\n",
    "    plt.axhline(Measurement.meanAngle, color='g')\n",
    "\n",
    "    plt.grid(color='gray', linestyle='-', linewidth=.25)\n",
    "    plt.savefig('Angle-'+str(Measurement.GTDist)+'m'+str(Measurement.GTAngle)+'.png', dpi=1200)\n",
    "        "
   ]
  },
  {
   "cell_type": "code",
   "execution_count": null,
   "metadata": {},
   "outputs": [],
   "source": [
    "'''AngleError development over Distance'''\n",
    "\n",
    "cycol = cycle('b')\n",
    "\n",
    "for Measurement in Data:\n",
    "    plt.plot(Measurement.GTDist,np.degrees(Measurement.meanAngle)-Measurement.GTAngle, marker=\"o\", markersize=5, color=next(cycol),label=str(Measurement.GTDist))\n",
    "plt.ylabel(\"Mean Angle Error [°]\")\n",
    "plt.xlabel(\"Measurement Distance [m]\")\n",
    "plt.grid(color='gray', linestyle='-', linewidth=.25)\n",
    "plt.savefig('Mean angle error over Distance.png', dpi=1200)"
   ]
  },
  {
   "cell_type": "code",
   "execution_count": null,
   "metadata": {},
   "outputs": [],
   "source": [
    "'''DistanceError development over Distance'''\n",
    "\n",
    "cycol = cycle('b')\n",
    "\n",
    "for Measurement in Data:\n",
    "    plt.plot(Measurement.GTDist,Measurement.meanDist-Measurement.GTDist, marker=\"o\", markersize=5, color=next(cycol),label=str(Measurement.GTDist))\n",
    "plt.ylabel(\"Mean Distance Error [m]\")\n",
    "plt.xlabel(\"Measurement Distance [m]\")\n",
    "plt.grid(color='gray', linestyle='-', linewidth=.25)\n",
    "plt.savefig('Mean distance error over Distance.png', dpi=1200)"
   ]
  },
  {
   "cell_type": "code",
   "execution_count": null,
   "metadata": {},
   "outputs": [],
   "source": [
    "'''CartesianError development over angle'''\n",
    "\n",
    "cycol = cycle('b')\n",
    "\n",
    "for Measurement in Data:\n",
    "    error=np.sqrt((Measurement.meanX-Measurement.GTx)**2+(Measurement.meanY-Measurement.GTy)**2)\n",
    "    plt.plot(Measurement.GTDist,error, marker=\"o\", markersize=5, color=next(cycol),label=str(Measurement.GTDist))\n",
    "plt.ylabel(\"Mean Cartesian Error [m]\")\n",
    "plt.xlabel(\"Measurement Distance [m]\")\n",
    "plt.grid(color='gray', linestyle='-', linewidth=.25)\n",
    "plt.savefig('Mean cartesian error over Distance.png', dpi=1200)"
   ]
  },
  {
   "cell_type": "code",
   "execution_count": null,
   "metadata": {},
   "outputs": [],
   "source": [
    "cycol = cycle('b')\n",
    "Angle=10\n",
    "\n",
    "for Measurement in Data:\n",
    "    plt.plot(Measurement.GTDist,Measurement.meanHz, marker=\"o\", markersize=5, color=next(cycol),label=str(Measurement.GTDist))\n",
    "plt.ylabel(\"Mean Framerate [Hz]\")\n",
    "plt.xlabel(\"Measurement Distance [m]\")\n",
    "plt.grid(color='gray', linestyle='-', linewidth=.25)\n",
    "plt.savefig('Framerate.png', dpi=1200)"
   ]
  },
  {
   "cell_type": "code",
   "execution_count": null,
   "metadata": {},
   "outputs": [],
   "source": [
    "'''AngleError development over Distance'''\n",
    "\n",
    "cycol = cycle('b')\n",
    "\n",
    "for Measurement in Data:\n",
    "    ax1=plt.plot(Measurement.GTDist,Measurement.missingAmount, marker=\"o\", markersize=5, color=next(cycol),label=str(Measurement.GTDist))\n",
    "plt.ylabel(\"Missing Detections [%]\")\n",
    "plt.xlabel(\"Measurement Distance [m]\")\n",
    "plt.grid(color='gray', linestyle='-', linewidth=.25)\n",
    "plt.savefig('Missing detections over distance.png', dpi=1200)"
   ]
  }
 ],
 "metadata": {
  "interpreter": {
   "hash": "31f2aee4e71d21fbe5cf8b01ff0e069b9275f58929596ceb00d14d90e3e16cd6"
  },
  "kernelspec": {
   "display_name": "Python 3.8.9 64-bit",
   "language": "python",
   "name": "python3"
  },
  "language_info": {
   "codemirror_mode": {
    "name": "ipython",
    "version": 3
   },
   "file_extension": ".py",
   "mimetype": "text/x-python",
   "name": "python",
   "nbconvert_exporter": "python",
   "pygments_lexer": "ipython3",
   "version": "3.8.9"
  },
  "orig_nbformat": 4
 },
 "nbformat": 4,
 "nbformat_minor": 2
}
