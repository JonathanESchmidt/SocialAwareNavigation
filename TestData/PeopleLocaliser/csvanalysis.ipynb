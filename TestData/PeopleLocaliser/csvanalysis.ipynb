{
 "cells": [
  {
   "cell_type": "code",
   "execution_count": null,
   "metadata": {},
   "outputs": [],
   "source": [
    "import pandas as pd\n",
    "import numpy as np\n",
    "import matplotlib.pyplot as plt"
   ]
  },
  {
   "cell_type": "code",
   "execution_count": null,
   "metadata": {},
   "outputs": [],
   "source": [
    "def addAngleData(name,meanDist,meanAngle,value):\n",
    "    df.append(pd.read_csv (name + \".csv\"))\n",
    "\n",
    "def addDistanceData(name,meanDist,meanAngle):\n",
    "    addAngleData(name + \"-20deg\", -20)\n",
    "    addAngleData(name + \"-10deg\", -10)\n",
    "    addAngleData(name + \"0deg\", 0)\n",
    "    addAngleData(name + \"+10deg\", 10)\n",
    "    addAngleData(name + \"+20deg\", 20)"
   ]
  },
  {
   "cell_type": "code",
   "execution_count": null,
   "metadata": {},
   "outputs": [],
   "source": [
    "\n",
    "\n",
    "df=[]\n",
    "\n",
    "addDistanceData(\"test_0,7m\")\n",
    "addDistanceData(\"test_1m\")\n",
    "addDistanceData(\"test_1,5m\")\n",
    "addDistanceData(\"test_2m\")\n",
    "addDistanceData(\"test_3m\")\n",
    "addDistanceData(\"test_4m\")"
   ]
  }
 ],
 "metadata": {
  "language_info": {
   "name": "python"
  },
  "orig_nbformat": 4
 },
 "nbformat": 4,
 "nbformat_minor": 2
}
