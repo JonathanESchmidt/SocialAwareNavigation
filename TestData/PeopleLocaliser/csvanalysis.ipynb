{
 "cells": [
  {
   "cell_type": "code",
   "execution_count": null,
   "metadata": {},
   "outputs": [],
   "source": [
    "import pandas as pd\n",
    "import numpy as np\n",
    "import matplotlib.pyplot as plt\n",
    "\n",
    "from itertools import cycle"
   ]
  },
  {
   "cell_type": "code",
   "execution_count": null,
   "metadata": {},
   "outputs": [],
   "source": [
    "class MeasurementData():\n",
    "  def __init__(self,df,GTDist,GTAngle):\n",
    "    self.df=df\n",
    "    self.GTDist=GTDist\n",
    "    self.GTAngle=GTAngle\n",
    "\n",
    "\n",
    "\n",
    "    self.meanDist=self.df[\"distance\"].mean()\n",
    "    self.maxDist=self.df[\"distance\"].max()\n",
    "    self.minDist=self.df[\"distance\"].min()\n",
    "\n",
    "    self.meanX=self.df[\"x-coord\"].mean()\n",
    "    self.maxX=self.df[\"x-coord\"].max()\n",
    "    self.minX=self.df[\"x-coord\"].min()\n",
    "    self.GTx=np.cos(np.radians(self.GTAngle))*self.GTDist\n",
    "    self.GTy=np.sin(np.radians(self.GTAngle))*self.GTDist\n",
    "\n",
    "    self.meanY=self.df[\"y-coord\"].mean()\n",
    "    self.maxY=self.df[\"y-coord\"].max()\n",
    "    self.minY=self.df[\"y-coord\"].min()\n",
    "\n",
    "    self.meanHz=self.df[\"framerate\"].mean()\n",
    "    self.maxHz=self.df[\"framerate\"].max()\n",
    "    self.minHz=self.df[\"framerate\"].min()\n",
    "\n",
    "    self.df[\"angle-degrees\"]=np.degrees(self.df[\"angle\"])\n",
    "    self.meanAngle=self.df[\"angle-degrees\"].mean()\n",
    "    self.maxAngle=self.df[\"angle-degrees\"].max()\n",
    "    self.minAngle=self.df[\"angle-degrees\"].min()\n",
    "\n",
    "    self.missingAmount=(500-self.df[\"detection\"].sum())/500\n"
   ]
  },
  {
   "cell_type": "code",
   "execution_count": null,
   "metadata": {},
   "outputs": [],
   "source": [
    "def addData(name,GTDist):\n",
    "    \n",
    "    if GTDist==3:\n",
    "        createInstance(pd.read_csv(name + \"-20deg\" + \".csv\"),GTDist,-20)\n",
    "        #createInstance(pd.read_csv(name + \"-15deg\" + \".csv\"),GTDist,-15)\n",
    "        createInstance(pd.read_csv(name + \"-10deg\" + \".csv\"),GTDist,-10)\n",
    "        createInstance(pd.read_csv(name + \"-5deg\" + \".csv\"),GTDist,-5)\n",
    "        createInstance(pd.read_csv(name + \"0deg\" + \".csv\"),GTDist,0)\n",
    "        createInstance(pd.read_csv(name + \"+5deg\" + \".csv\"),GTDist,5)\n",
    "        createInstance(pd.read_csv(name + \"+10deg\" + \".csv\"),GTDist,10)\n",
    "        createInstance(pd.read_csv(name + \"+15deg\" + \".csv\"),GTDist,15)\n",
    "        createInstance(pd.read_csv(name + \"+20deg\" + \".csv\"),GTDist,20)\n",
    "    else:\n",
    "        createInstance(pd.read_csv(name + \"-20deg\" + \".csv\"),GTDist,-20)\n",
    "        createInstance(pd.read_csv(name + \"-10deg\" + \".csv\"),GTDist,-10)\n",
    "        createInstance(pd.read_csv(name + \"0deg\" + \".csv\"),GTDist,0)\n",
    "        createInstance(pd.read_csv(name + \"+10deg\" + \".csv\"),GTDist,10)\n",
    "        createInstance(pd.read_csv(name + \"+20deg\" + \".csv\"),GTDist,20)\n",
    "\n",
    "def createInstance(df,GTDist,GTAngle):\n",
    "    Data.append(MeasurementData(df,GTDist,GTAngle))"
   ]
  },
  {
   "cell_type": "code",
   "execution_count": 257,
   "metadata": {},
   "outputs": [],
   "source": [
    "Data=[]\n",
    "addData(\"test_0,7m\",0.7)\n",
    "addData(\"test_1m\",1)\n",
    "addData(\"test_1,5m\",1.5)\n",
    "addData(\"test_2m\",2)\n",
    "addData(\"test_3m\",3)\n",
    "addData(\"test_4m\",4)"
   ]
  },
  {
   "cell_type": "code",
   "execution_count": null,
   "metadata": {},
   "outputs": [],
   "source": [
    "counter =0\n",
    "cycol = cycle('bgrcmk')\n",
    "'''plot individual distance and angle plots for all tests'''\n",
    "\n",
    "for Measurement in Data:\n",
    "    title=\"Gangle=\"+str(round(Measurement.GTAngle,2))+\"°\"+\" Gdist=\"+str(round(Measurement.GTDist,2))+\"m, \"+\"min=\"+str(round(Measurement.minDist,2))+\"m, \"+\"mean=\"+str(round(Measurement.meanDist,2))+\"m, \"+\"max=\"+str(round(Measurement.maxDist,2))+\"m\"\n",
    "    Measurement.df.plot(kind='scatter', x='iteration', y='distance',c='b',title=title,s=2) \n",
    "    plt.ylabel(\"Distance [m]\")\n",
    "    plt.xlabel(\"Iteration\")\n",
    "    plt.axhline(Measurement.meanDist, color='g')\n",
    "    plt.grid(color='gray', linestyle='-', linewidth=.25)\n",
    "    plt.savefig('Distance-'+str(Measurement.GTDist)+'m'+str(Measurement.GTAngle)+'.png', dpi=1200)\n",
    "\n",
    "    title=\"Gangle=\"+str(round(Measurement.GTAngle,2))+\"°\"+\" Gdist=\"+str(round(Measurement.GTDist,2))+\"m, \"+\"min=\"+str(round(Measurement.minAngle,2))+\"°, \"+\"mean=\"+str(round(Measurement.meanAngle,2))+\"°, \"+\"max=\"+str(round(Measurement.maxAngle,2))+\"°\"\n",
    "    Measurement.df.plot(kind='scatter', x='iteration', y='angle-degrees',c='b',title=title,s=2) \n",
    "\n",
    "    plt.axhline(Measurement.meanAngle, color='g')\n",
    "    plt.ylabel(\"Angle [°]\")\n",
    "    plt.xlabel(\"Iteration\")\n",
    "    plt.grid(color='gray', linestyle='-', linewidth=.25)\n",
    "    plt.savefig('Angle-'+str(Measurement.GTDist)+'m'+str(Measurement.GTAngle)+'.png', dpi=1200)\n",
    "        "
   ]
  },
  {
   "cell_type": "code",
   "execution_count": 270,
   "metadata": {},
   "outputs": [
    {
     "name": "stdout",
     "output_type": "stream",
     "text": [
      "MeanAngleError -2.08719274854694\n",
      "MaxAngleError 3.8756431474258086\n",
      "MinAngleError -6.817387637754502\n"
     ]
    },
    {
     "data": {
      "image/png": "[encoded data removed]",
      "text/plain": [
       "<Figure size 432x288 with 1 Axes>"
      ]
     },
     "metadata": {
      "needs_background": "light"
     },
     "output_type": "display_data"
    }
   ],
   "source": [
    "'''AngleError development over Distance'''\n",
    "\n",
    "cycol = cycle('b')\n",
    "Error=[]\n",
    "GTDistance=[]\n",
    "\n",
    "for Measurement in Data:\n",
    "    Error.append(Measurement.meanAngle-Measurement.GTAngle)\n",
    "    GTDistance.append(Measurement.GTDist)\n",
    "plt.scatter(np.asarray(GTDistance), np.asarray(Error), s=25, c='b')\n",
    "\n",
    "plt.axhline(np.mean(Error), color='g')\n",
    "print(\"MeanAngleError \" + str(np.mean(Error)))\n",
    "print(\"MaxAngleError \" + str(np.max(Error)))\n",
    "print(\"MinAngleError \" + str(np.min(Error)))\n",
    "plt.ylabel(\"Mean Angle Error [°]\")\n",
    "plt.xlabel(\"Measurement Distance [m]\")\n",
    "plt.grid(color='gray', linestyle='-', linewidth=.25)\n",
    "plt.savefig('Mean angle error over Distance.png', dpi=1200)"
   ]
  },
  {
   "cell_type": "code",
   "execution_count": 272,
   "metadata": {},
   "outputs": [
    {
     "name": "stdout",
     "output_type": "stream",
     "text": [
      "MeanDistanceError 0.018265478732278278\n",
      "MaxDistanceError 0.44827217470422376\n",
      "MinDistanceError -0.11987934025201796\n"
     ]
    },
    {
     "data": {
      "image/png": "[encoded data removed]",
      "text/plain": [
       "<Figure size 432x288 with 1 Axes>"
      ]
     },
     "metadata": {
      "needs_background": "light"
     },
     "output_type": "display_data"
    }
   ],
   "source": [
    "'''DistanceError development over Distance'''\n",
    "\n",
    "Error=[]\n",
    "GTDistance=[]\n",
    "for Measurement in Data:\n",
    "    Error.append(Measurement.meanDist-Measurement.GTDist)\n",
    "    GTDistance.append(Measurement.GTDist)\n",
    "plt.scatter(np.asarray(GTDistance), np.asarray(Error), s=25, c='b')\n",
    "    \n",
    "plt.axhline(np.mean(Error), color='g')\n",
    "print(\"MeanDistanceError \" + str(np.mean(Error)))\n",
    "print(\"MaxDistanceError \" + str(np.max(Error)))\n",
    "print(\"MinDistanceError \" + str(np.min(Error)))\n",
    "plt.ylabel(\"Mean Distance Error [m]\")\n",
    "plt.xlabel(\"Measurement Distance [m]\")\n",
    "plt.grid(color='gray', linestyle='-', linewidth=.25)\n",
    "plt.savefig('Mean distance error over Distance.png', dpi=1200)"
   ]
  },
  {
   "cell_type": "code",
   "execution_count": 273,
   "metadata": {},
   "outputs": [
    {
     "name": "stdout",
     "output_type": "stream",
     "text": [
      "MeanCartesianError 0.14328515674629666\n",
      "MaxCartesianError 0.4726432214212615\n",
      "MinCartesianError 0.050378946431557776\n"
     ]
    },
    {
     "data": {
      "image/png": "[encoded data removed]",
      "text/plain": [
       "<Figure size 432x288 with 1 Axes>"
      ]
     },
     "metadata": {
      "needs_background": "light"
     },
     "output_type": "display_data"
    }
   ],
   "source": [
    "'''CartesianError development over angle'''\n",
    "\n",
    "Error=[]\n",
    "GTDistance=[]\n",
    "for Measurement in Data:\n",
    "    error=np.sqrt((Measurement.meanX-Measurement.GTx)**2+(Measurement.meanY-Measurement.GTy)**2)\n",
    "    Error.append(error)\n",
    "    GTDistance.append(Measurement.GTDist)\n",
    "plt.scatter(np.asarray(GTDistance), np.asarray(Error), s=25, c='b')\n",
    "    \n",
    "plt.axhline(np.mean(Error), color='g')\n",
    "print(\"MeanCartesianError \" + str(np.mean(Error)))\n",
    "print(\"MaxCartesianError \" + str(np.max(Error)))\n",
    "print(\"MinCartesianError \" + str(np.min(Error)))\n",
    "plt.ylabel(\"Mean Cartesian Error [m]\")\n",
    "plt.xlabel(\"Measurement Distance [m]\")\n",
    "plt.grid(color='gray', linestyle='-', linewidth=.25)\n",
    "plt.savefig('Mean cartesian error over Distance.png', dpi=1200)"
   ]
  },
  {
   "cell_type": "code",
   "execution_count": 276,
   "metadata": {},
   "outputs": [
    {
     "name": "stdout",
     "output_type": "stream",
     "text": [
      "MeanFrequencyError 20.13464075557547\n",
      "MaxFrequencyError 20.884346621497254\n",
      "MinFrequencyError 19.147089897480313\n"
     ]
    },
    {
     "data": {
      "image/png": "[encoded data removed]",
      "text/plain": [
       "<Figure size 432x288 with 1 Axes>"
      ]
     },
     "metadata": {
      "needs_background": "light"
     },
     "output_type": "display_data"
    }
   ],
   "source": [
    "cycol = cycle('b')\n",
    "\n",
    "Frequency=[]\n",
    "GTDistance=[]\n",
    "for Measurement in Data:\n",
    "    Frequency.append(Measurement.meanHz)\n",
    "    GTDistance.append(Measurement.GTDist)\n",
    "\n",
    "plt.scatter(np.asarray(GTDistance), np.asarray(Frequency), s=25, c='b')\n",
    "    \n",
    "plt.axhline(np.mean(Frequency), color='g')\n",
    "print(\"MeanFrequencyError \" + str(np.mean(Frequency)))\n",
    "print(\"MaxFrequencyError \" + str(np.max(Frequency)))\n",
    "print(\"MinFrequencyError \" + str(np.min(Frequency)))\n",
    "plt.ylabel(\"Mean Framerate [Hz]\")\n",
    "plt.xlabel(\"Measurement Distance [m]\")\n",
    "plt.grid(color='gray', linestyle='-', linewidth=.25)\n",
    "plt.savefig('Framerate.png', dpi=1200)"
   ]
  },
  {
   "cell_type": "code",
   "execution_count": null,
   "metadata": {},
   "outputs": [],
   "source": [
    "'''Missing Detections over Distance'''\n",
    "\n",
    "cycol = cycle('b')\n",
    "\n",
    "for Measurement in Data:\n",
    "    ax1=plt.plot(Measurement.GTDist,Measurement.missingAmount, marker=\"o\", markersize=5, color=next(cycol),label=str(Measurement.GTDist))\n",
    "plt.ylabel(\"Missing Detections [%]\")\n",
    "plt.xlabel(\"Measurement Distance [m]\")\n",
    "plt.grid(color='gray', linestyle='-', linewidth=.25)\n",
    "plt.savefig('Missing detections over distance.png', dpi=1200)"
   ]
  }
 ],
 "metadata": {
  "interpreter": {
   "hash": "31f2aee4e71d21fbe5cf8b01ff0e069b9275f58929596ceb00d14d90e3e16cd6"
  },
  "kernelspec": {
   "display_name": "Python 3.8.9 64-bit",
   "language": "python",
   "name": "python3"
  },
  "language_info": {
   "codemirror_mode": {
    "name": "ipython",
    "version": 3
   },
   "file_extension": ".py",
   "mimetype": "text/x-python",
   "name": "python",
   "nbconvert_exporter": "python",
   "pygments_lexer": "ipython3",
   "version": "3.8.9"
  },
  "orig_nbformat": 4
 },
 "nbformat": 4,
 "nbformat_minor": 2
}
