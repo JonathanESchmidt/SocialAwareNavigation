{
 "cells": [
  {
   "cell_type": "code",
   "execution_count": null,
   "metadata": {},
   "outputs": [],
   "source": [
    "import pandas as pd\n",
    "from matplotlib import pyplot as plt\n",
    "import numpy as np\n",
    "\n",
    "df = pd.read_excel('Questionnaire.xlsx', sheet_name='Scores')\n",
    "participants = 5"
   ]
  },
  {
   "cell_type": "code",
   "execution_count": null,
   "metadata": {},
   "outputs": [],
   "source": [
    "dfA = df.loc[df['Test type'] == 'A']\n",
    "dfB = df.loc[df['Test type'] == 'B']\n",
    "dfC = df.loc[df['Test type'] == 'C']\n",
    "dfD = df.loc[df['Test type'] == 'D']"
   ]
  },
  {
   "cell_type": "code",
   "execution_count": null,
   "metadata": {},
   "outputs": [],
   "source": [
    "class HRIdata():\n",
    "    def __init__(self, df, participants):\n",
    "        self.df = df\n",
    "        self.participants = participants\n",
    "\n",
    "        self.general = ((self.df.iloc[:,1].sum() + self.df.iloc[:,2].sum() \n",
    "            + self.df.iloc[:,3].sum() + self.df.iloc[:,4].sum() + self.df.iloc[:,5].sum())/(self.participants*5))\n",
    "\n",
    "        self.comfort = ((self.df.iloc[:,9].sum() + self.df.iloc[:,10].sum() \n",
    "            + self.df.iloc[:,11].sum() + self.df.iloc[:,12].sum())/(self.participants*4))\n",
    "\n",
    "        self.trust = ((self.df.iloc[:,13].sum() + self.df.iloc[:,14].sum() \n",
    "            + self.df.iloc[:,15].sum() + self.df.iloc[:,16].sum() + self.df.iloc[:,21].sum())/(self.participants*5))\n",
    "\n",
    "        self.safety = ((self.df.iloc[:,17].sum() + self.df.iloc[:,18].sum() \n",
    "            + self.df.iloc[:,19].sum() + self.df.iloc[:,20].sum())/(self.participants*4))\n",
    "    \n",
    "    "
   ]
  },
  {
   "cell_type": "code",
   "execution_count": null,
   "metadata": {},
   "outputs": [],
   "source": [
    "testA = HRIdata(dfA, 5)\n",
    "testB = HRIdata(dfB, 5)\n",
    "testC = HRIdata(dfC, 5)\n",
    "testD = HRIdata(dfD, 5)\n",
    "\n",
    "width = 0.3\n",
    "labels = ['General', 'Comfort', 'Trust', 'Safety']\n",
    "x_axis = np.arange(len(labels))\n",
    "\n",
    "dataA = [testA.general, testA.comfort, testA.trust, testA.safety]\n",
    "dataB = [testB.general, testB.comfort, testB.trust, testB.safety]\n",
    "dataC = [testC.general, testC.comfort, testC.trust, testC.safety]\n",
    "dataD = [testD.general, testD.comfort, testD.trust, testD.safety]\n",
    "\n",
    "plt.figure()\n",
    "plt.title('Likert score of HRI tests') \n",
    "\n",
    "plt.bar(x_axis - 0.3, dataA, color='red', width=0.2, label = 'A')\n",
    "plt.bar(x_axis - 0.1, dataB, color='blue', width=0.2, label = 'B')\n",
    "plt.bar(x_axis + 0.1, dataC, color='green', width=0.2, label = 'C')\n",
    "plt.bar(x_axis + 0.3, dataD, color='purple', width=0.2, label = 'D')\n",
    "\n",
    "plt.xticks(x_axis, labels)\n",
    "plt.ylabel(\"Likert score\")\n",
    "plt.xlabel(\"Tested aspect\")\n",
    "plt.grid(color='gray', linestyle='-', linewidth=.25)\n",
    "plt.ylim((1,7))\n",
    "plt.legend(loc=\"lower right\")\n",
    "plt.savefig('HRIScore.png', dpi=200)"
   ]
  }
 ],
 "metadata": {
  "interpreter": {
   "hash": "58e738f62412e810f7ba82c6c5fa9b419f45af4901dc9ccd41f63417c3c79d00"
  },
  "kernelspec": {
   "display_name": "Python 3.8.13 ('dataAnalysis')",
   "language": "python",
   "name": "python3"
  },
  "language_info": {
   "codemirror_mode": {
    "name": "ipython",
    "version": 3
   },
   "file_extension": ".py",
   "mimetype": "text/x-python",
   "name": "python",
   "nbconvert_exporter": "python",
   "pygments_lexer": "ipython3",
   "version": "3.8.13"
  },
  "orig_nbformat": 4
 },
 "nbformat": 4,
 "nbformat_minor": 2
}
